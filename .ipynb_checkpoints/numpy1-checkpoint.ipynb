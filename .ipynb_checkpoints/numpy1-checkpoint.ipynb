{
 "cells": [
  {
   "cell_type": "code",
   "execution_count": 2,
   "id": "4efad8be",
   "metadata": {},
   "outputs": [
    {
     "name": "stdout",
     "output_type": "stream",
     "text": [
      "hi\n"
     ]
    }
   ],
   "source": [
    "print(\"hi\")"
   ]
  },
  {
   "cell_type": "code",
   "execution_count": 4,
   "id": "0d3ce970",
   "metadata": {},
   "outputs": [],
   "source": [
    "import numpy as np"
   ]
  },
  {
   "cell_type": "code",
   "execution_count": 12,
   "id": "92af6f02",
   "metadata": {},
   "outputs": [
    {
     "data": {
      "text/plain": [
       "array(['1', '2', '3'], dtype='<U1')"
      ]
     },
     "execution_count": 12,
     "metadata": {},
     "output_type": "execute_result"
    }
   ],
   "source": [
    "#help(np.array)\n",
    "np.array([1,2,3])\n",
    "np.array([[1,2],[3,4]])\n",
    "np.array([1,2,3], 'float')\n",
    "np.array([1,2,3], 'complex')\n",
    "np.array([1,2,3], 'str')"
   ]
  },
  {
   "cell_type": "code",
   "execution_count": 28,
   "id": "e0ec87cb",
   "metadata": {},
   "outputs": [
    {
     "data": {
      "text/plain": [
       "array([0. +0.j, 0.1+0.j, 0.2+0.j, 0.3+0.j, 0.4+0.j, 0.5+0.j, 0.6+0.j,\n",
       "       0.7+0.j, 0.8+0.j, 0.9+0.j])"
      ]
     },
     "execution_count": 28,
     "metadata": {},
     "output_type": "execute_result"
    }
   ],
   "source": [
    "#how to create the array in arange func\n",
    "#help(n.arange)\n",
    "np.arange(10)\n",
    "np.arange(1,10)\n",
    "np.arange(0,10,2)\n",
    "np.arange(0, 10, 2, \"complex\")\n",
    "np.arange(0, 1, 0.1, \"float\")\n",
    "np.arange(0, 1, 0.1, 'complex')\n"
   ]
  },
  {
   "cell_type": "code",
   "execution_count": 36,
   "id": "6df664d3",
   "metadata": {},
   "outputs": [
    {
     "data": {
      "text/plain": [
       "array([[[0.+0.j, 0.+0.j, 0.+0.j],\n",
       "        [0.+0.j, 0.+0.j, 0.+0.j],\n",
       "        [0.+0.j, 0.+0.j, 0.+0.j]],\n",
       "\n",
       "       [[0.+0.j, 0.+0.j, 0.+0.j],\n",
       "        [0.+0.j, 0.+0.j, 0.+0.j],\n",
       "        [0.+0.j, 0.+0.j, 0.+0.j]],\n",
       "\n",
       "       [[0.+0.j, 0.+0.j, 0.+0.j],\n",
       "        [0.+0.j, 0.+0.j, 0.+0.j],\n",
       "        [0.+0.j, 0.+0.j, 0.+0.j]]])"
      ]
     },
     "execution_count": 36,
     "metadata": {},
     "output_type": "execute_result"
    }
   ],
   "source": [
    "#help(np.zeros)\n",
    "np.zeros(5)\n",
    "np.zeros(5, \"int\")\n",
    "np.zeros((2,2), 'int')\n",
    "np.zeros([2,3], 'float')\n",
    "np.zeros([3,3], 'complex')\n",
    "np.zeros([3,3,3], 'complex')"
   ]
  },
  {
   "cell_type": "code",
   "execution_count": 38,
   "id": "119cd64a",
   "metadata": {},
   "outputs": [
    {
     "data": {
      "text/plain": [
       "array([[[1.+0.j, 1.+0.j, 1.+0.j],\n",
       "        [1.+0.j, 1.+0.j, 1.+0.j],\n",
       "        [1.+0.j, 1.+0.j, 1.+0.j]],\n",
       "\n",
       "       [[1.+0.j, 1.+0.j, 1.+0.j],\n",
       "        [1.+0.j, 1.+0.j, 1.+0.j],\n",
       "        [1.+0.j, 1.+0.j, 1.+0.j]],\n",
       "\n",
       "       [[1.+0.j, 1.+0.j, 1.+0.j],\n",
       "        [1.+0.j, 1.+0.j, 1.+0.j],\n",
       "        [1.+0.j, 1.+0.j, 1.+0.j]]])"
      ]
     },
     "execution_count": 38,
     "metadata": {},
     "output_type": "execute_result"
    }
   ],
   "source": [
    "#help(np.ones)\n",
    "np.ones(5)\n",
    "np.ones(5, \"int\")\n",
    "np.ones((2,2), 'int')\n",
    "np.ones([2,3], 'float')\n",
    "np.ones([3,3], 'complex')\n",
    "np.ones([3,3,3], 'complex')"
   ]
  },
  {
   "cell_type": "code",
   "execution_count": 45,
   "id": "03ceab37",
   "metadata": {},
   "outputs": [
    {
     "data": {
      "text/plain": [
       "array([['', '', ''],\n",
       "       ['', '', ''],\n",
       "       ['', '', '']], dtype='<U1')"
      ]
     },
     "execution_count": 45,
     "metadata": {},
     "output_type": "execute_result"
    }
   ],
   "source": [
    "#help(np.empty)\n",
    "np.empty(5)\n",
    "np.empty((2,2))\n",
    "np.empty((3,3), \"int\")\n",
    "np.empty((3,3), 'str')"
   ]
  },
  {
   "cell_type": "code",
   "execution_count": 66,
   "id": "ffdbcee6",
   "metadata": {},
   "outputs": [
    {
     "data": {
      "text/plain": [
       "(array([ 1, 20, 40, 60, 80]), 19.8)"
      ]
     },
     "execution_count": 66,
     "metadata": {},
     "output_type": "execute_result"
    }
   ],
   "source": [
    "#help(np.linspace)\n",
    "np.linspace(1,100)\n",
    "np.linspace(1,100, num=5)  #(100-1)/4  you can get the step like this\n",
    "np.linspace(1,100, num=5, endpoint=False)\n",
    "np.linspace(1,100, num=5, endpoint=True)\n",
    "np.linspace(1,100, num=5, endpoint=False, retstep=True)\n",
    "np.linspace(1, 100, num=5, endpoint=False, retstep=True, dtype=int)"
   ]
  },
  {
   "cell_type": "code",
   "execution_count": 79,
   "id": "3bff80b3",
   "metadata": {},
   "outputs": [
    {
     "data": {
      "text/plain": [
       "array([[0., 0., 1., 0.],\n",
       "       [0., 0., 0., 1.]])"
      ]
     },
     "execution_count": 79,
     "metadata": {},
     "output_type": "execute_result"
    }
   ],
   "source": [
    "#eye func in numpy\n",
    "#help(np.eye)\n",
    "np.eye(1)\n",
    "np.eye(4)\n",
    "np.eye(4, dtype=int)\n",
    "np.eye(5, dtype=str)\n",
    "np.eye(4, 6, dtype=int)\n",
    "np.eye(4)\n",
    "np.eye(4, k=1)\n",
    "np.eye(4, k=-1)\n",
    "np.eye(4, k=5)\n",
    "np.eye(2,4,2)"
   ]
  },
  {
   "cell_type": "code",
   "execution_count": 82,
   "id": "a7df029a",
   "metadata": {},
   "outputs": [
    {
     "data": {
      "text/plain": [
       "array([[1.+0.j, 0.+0.j, 0.+0.j, 0.+0.j],\n",
       "       [0.+0.j, 1.+0.j, 0.+0.j, 0.+0.j],\n",
       "       [0.+0.j, 0.+0.j, 1.+0.j, 0.+0.j],\n",
       "       [0.+0.j, 0.+0.j, 0.+0.j, 1.+0.j]])"
      ]
     },
     "execution_count": 82,
     "metadata": {},
     "output_type": "execute_result"
    }
   ],
   "source": [
    "# identity func in numpy\n",
    "#help(np.identity)\n",
    "np.identity(4)\n",
    "np.identity(4, dtype=complex)"
   ]
  },
  {
   "cell_type": "code",
   "execution_count": 91,
   "id": "8f8416f8",
   "metadata": {},
   "outputs": [
    {
     "data": {
      "text/plain": [
       "0.018567018313991546"
      ]
     },
     "execution_count": 91,
     "metadata": {},
     "output_type": "execute_result"
    }
   ],
   "source": [
    "#help(np.random.rand)\n",
    "np.random.rand(3)\n",
    "np.random.rand(3,3)\n",
    "np.random.rand()"
   ]
  },
  {
   "cell_type": "code",
   "execution_count": 98,
   "id": "816cc2c8",
   "metadata": {},
   "outputs": [
    {
     "data": {
      "text/plain": [
       "array([[-0.84460438,  0.97586292, -0.41158185, -1.72481405],\n",
       "       [ 0.53044289, -0.61140948, -0.23808419, -0.92109986],\n",
       "       [ 0.44254281, -0.36092263,  2.53043942, -0.65999603],\n",
       "       [ 1.18475391, -0.39306295,  0.6457812 ,  0.39416548]])"
      ]
     },
     "execution_count": 98,
     "metadata": {},
     "output_type": "execute_result"
    }
   ],
   "source": [
    "# help(np.random.randn)\n",
    "np.random.randn()\n",
    "np.random.randn(4)\n",
    "np.random.randn(4,4)\n"
   ]
  },
  {
   "cell_type": "code",
   "execution_count": 116,
   "id": "02ce24e6",
   "metadata": {},
   "outputs": [
    {
     "data": {
      "text/plain": [
       "array([0.43673242, 0.08001906])"
      ]
     },
     "execution_count": 116,
     "metadata": {},
     "output_type": "execute_result"
    }
   ],
   "source": [
    "# help(np.random.randint)\n",
    "np.random.randint(3)\n",
    "np.random.randint(2, 5, 2)\n",
    "np.random.randint(1, 5, (3, 3))\n",
    "# help(np.random.ranf)   used to generate the random floating values\n",
    "np.random.ranf(2)"
   ]
  },
  {
   "cell_type": "code",
   "execution_count": 120,
   "id": "70f8d97f",
   "metadata": {},
   "outputs": [
    {
     "data": {
      "text/plain": [
       "2"
      ]
     },
     "execution_count": 120,
     "metadata": {},
     "output_type": "execute_result"
    }
   ],
   "source": [
    "#attributes of the array\n",
    "# ndim is to find the dimension of the array as shown below\n",
    "a = np.array([1,2,3])\n",
    "a.ndim\n",
    "b = np.array([[1,2], [3,4]])\n",
    "b.ndim"
   ]
  },
  {
   "cell_type": "code",
   "execution_count": 129,
   "id": "0929dea0",
   "metadata": {},
   "outputs": [
    {
     "data": {
      "text/plain": [
       "(3, 3, 3)"
      ]
     },
     "execution_count": 129,
     "metadata": {},
     "output_type": "execute_result"
    }
   ],
   "source": [
    "# shape is to  find the number of elements present in each dimension\n",
    "a = np.array([1,2,3])\n",
    "a.shape\n",
    "b = np.array([[1,2], [3,4]])\n",
    "b.shape\n",
    "c = np.ones((3,3,3))\n",
    "c.shape"
   ]
  },
  {
   "cell_type": "code",
   "execution_count": 131,
   "id": "f3e4d901",
   "metadata": {},
   "outputs": [
    {
     "data": {
      "text/plain": [
       "4"
      ]
     },
     "execution_count": 131,
     "metadata": {},
     "output_type": "execute_result"
    }
   ],
   "source": [
    "# size gives the total num of ele in array\n",
    "a = np.array([[1,2],[3,4]])\n",
    "a.size"
   ]
  },
  {
   "cell_type": "code",
   "execution_count": 135,
   "id": "ef80b261",
   "metadata": {},
   "outputs": [
    {
     "data": {
      "text/plain": [
       "8"
      ]
     },
     "execution_count": 135,
     "metadata": {},
     "output_type": "execute_result"
    }
   ],
   "source": [
    "# dtype is used to find the data type of the array element which are homogeneous\n",
    "arr = np.array([[1,2],[3,4]])\n",
    "arr.dtype\n",
    "\n",
    "# itemsize is used to find the memory size of the element in array\n",
    "arr = np.array([1,2])\n",
    "arr.itemsize\n",
    "\n",
    "arr = np.array([1.0, 2.0])\n",
    "arr.itemsize"
   ]
  },
  {
   "cell_type": "code",
   "execution_count": 153,
   "id": "74182990",
   "metadata": {},
   "outputs": [
    {
     "data": {
      "text/plain": [
       "dtype('float64')"
      ]
     },
     "execution_count": 153,
     "metadata": {},
     "output_type": "execute_result"
    }
   ],
   "source": [
    "# data types\n",
    "# int float bool complex int8 int16 int32 int64, float32, float64, complex32, complex64\n",
    "a = np.array([1,2,3], dtype='f')\n",
    "b = np.zeros(3)\n",
    "b.astype(int)  # one way to convert the data type\n",
    "np.float64(b)  # other way to convert the data type \n",
    "b.dtype"
   ]
  },
  {
   "cell_type": "code",
   "execution_count": 173,
   "id": "3f9b23c8",
   "metadata": {},
   "outputs": [
    {
     "data": {
      "text/plain": [
       "array([[[6],\n",
       "        [9]]])"
      ]
     },
     "execution_count": 173,
     "metadata": {},
     "output_type": "execute_result"
    }
   ],
   "source": [
    "# indexing in array\n",
    "a = [[1,2,3],[4,5,6]]\n",
    "a[0][2]\n",
    "b = np.array(\n",
    "    [[[1,2,3],\n",
    "      [4,5,6],\n",
    "      [7,8,9]],\n",
    "    \n",
    "     [[1,2,3],\n",
    "      [4,5,6],\n",
    "      [7,8,9]],\n",
    "    \n",
    "     [[1,2,3],\n",
    "      [4,5,6],\n",
    "      [7,8,9]],    \n",
    "     ])\n",
    "\n",
    "# indexing\n",
    "a[0][0]\n",
    "b[1][1][1]\n",
    "\n",
    "# slicing\n",
    "a[0 : 2]\n",
    "a[0:2][0:1]\n",
    "\n",
    "#this is importand to slice the array\n",
    "b[0:1:1,1:3:1, 2:3:1]"
   ]
  },
  {
   "cell_type": "code",
   "execution_count": 177,
   "id": "1c5e3df3",
   "metadata": {},
   "outputs": [
    {
     "data": {
      "text/plain": [
       "array([4, 9])"
      ]
     },
     "execution_count": 177,
     "metadata": {},
     "output_type": "execute_result"
    }
   ],
   "source": [
    "#advance indexing in numpy using array of index\n",
    "\n",
    "a = np.array([1,2,3,4,5,6,7])\n",
    "index = [1,4,6] # this index ele i want\n",
    "a[index]\n",
    "index = [1, 4, 4, 6, 6]\n",
    "a[index]   # accessing the repeated indexing\n",
    "\n",
    "b = np.array([[2,3,4],[5,6,7],[7,8,9]])\n",
    "# to get 4 and 9 using advance indexing\n",
    "b[[0,2],[2,2]]\n"
   ]
  },
  {
   "cell_type": "code",
   "execution_count": 182,
   "id": "50581a6c",
   "metadata": {},
   "outputs": [
    {
     "data": {
      "text/plain": [
       "array([1, 2, 3])"
      ]
     },
     "execution_count": 182,
     "metadata": {},
     "output_type": "execute_result"
    }
   ],
   "source": [
    "# boolean indexing\n",
    "a = np.array([1,2,3,4,5,6])\n",
    "a[a<4] # write the boolean expression to get the ele"
   ]
  },
  {
   "cell_type": "code",
   "execution_count": 201,
   "id": "08afcb4b",
   "metadata": {},
   "outputs": [
    {
     "data": {
      "text/plain": [
       "array([   6,   49,  512, 6561], dtype=int32)"
      ]
     },
     "execution_count": 201,
     "metadata": {},
     "output_type": "execute_result"
    }
   ],
   "source": [
    "# airthmatic operation in numpy\n",
    "# scalar constant\n",
    "a = np.arange(1,5)\n",
    "a\n",
    "a+2\n",
    "a-1\n",
    "a*3\n",
    "a/3\n",
    "a**2\n",
    "a**3\n",
    "a%2\n",
    "\n",
    "b = np.array([[1,2],[3,4]]) # two dim array\n",
    "b**3\n",
    "\n",
    "# vector or array to array\n",
    "a = np.arange(1, 5)\n",
    "b = np.arange(6, 10)\n",
    "a+b\n",
    "a*b\n",
    "a-b\n",
    "a/b\n",
    "a**b\n",
    "b%a\n",
    "np.add(a,2)  # for scalar\n",
    "np.subtract(a,2)\n",
    "# for vector of two arrays\n",
    "np.add(a,b)  \n",
    "np.subtract(a,a)\n",
    "np.multiply(a,a)\n",
    "np.divide(a,b)\n",
    "np.mod(b,a)\n",
    "np.power(b,a)"
   ]
  },
  {
   "cell_type": "code",
   "execution_count": 204,
   "id": "4f1fe398",
   "metadata": {},
   "outputs": [
    {
     "data": {
      "text/plain": [
       "array([3, 4, 5, 6])"
      ]
     },
     "execution_count": 204,
     "metadata": {},
     "output_type": "execute_result"
    }
   ],
   "source": [
    "# broad casting it the process of adding the extra element\n",
    "# to the single element of the array to satisfy the opposite array shape and size\n",
    "a = np.array([1,2,3,4])\n",
    "b = 2\n",
    "np.add(a,b)  # np.add([1,2,3,4], [2,2,2,2,])\n",
    "np.add([1,2,3,4], [2,2,2,2,])\n",
    "# you can add one row to the all the row of the bigger array"
   ]
  },
  {
   "cell_type": "code",
   "execution_count": 215,
   "id": "d6351562",
   "metadata": {},
   "outputs": [
    {
     "data": {
      "text/plain": [
       "array([[0, 1, 2],\n",
       "       [3, 4, 5],\n",
       "       [6, 7, 8],\n",
       "       [9, 0, 1]])"
      ]
     },
     "execution_count": 215,
     "metadata": {},
     "output_type": "execute_result"
    }
   ],
   "source": [
    "# reshaping the array\n",
    "# reshape() gives same elements and same size\n",
    "# resize()  give same elements but differ size for repeated elements\n",
    "\n",
    "a = np.arange(0,10)\n",
    "a.reshape((5,2))\n",
    "np.reshape(a, (5,2))\n",
    "np.reshape(a, (5,2), 'F')\n",
    "np.reshape(a, (5,2))\n",
    "\n",
    "a = np.arange(0,10)\n",
    "np.resize(a,(4,3))  # added the starting elements 0 and 1 to the new one"
   ]
  },
  {
   "cell_type": "code",
   "execution_count": 220,
   "id": "a6d6f9fd",
   "metadata": {},
   "outputs": [
    {
     "data": {
      "text/plain": [
       "array([1, 3, 4, 2, 4, 5])"
      ]
     },
     "execution_count": 220,
     "metadata": {},
     "output_type": "execute_result"
    }
   ],
   "source": [
    "# how to flat the array\n",
    "a = np.array([[1,2],[3,4],[4,5]])\n",
    "a.flatten()  # flattening based on row\n",
    "a.flatten(\"F\")  # flattenig based on column\n",
    "\n",
    "np.ravel(a)\n",
    "np.ravel(a,order=\"F\")"
   ]
  },
  {
   "cell_type": "code",
   "execution_count": 228,
   "id": "8f42422f",
   "metadata": {},
   "outputs": [
    {
     "data": {
      "text/plain": [
       "array([[1, 3, 5],\n",
       "       [2, 4, 6]])"
      ]
     },
     "execution_count": 228,
     "metadata": {},
     "output_type": "execute_result"
    }
   ],
   "source": [
    "# transpose and swapaxes function\n",
    "a = np.array([[1,2], [3,4],[5,6]])\n",
    "a, a.shape\n",
    "b = np.transpose(a)\n",
    "b, b.shape\n",
    "c = a.T\n",
    "c"
   ]
  },
  {
   "cell_type": "code",
   "execution_count": 235,
   "id": "825417ae",
   "metadata": {},
   "outputs": [
    {
     "data": {
      "text/plain": [
       "array([[[1, 3],\n",
       "        [2, 4]],\n",
       "\n",
       "       [[5, 7],\n",
       "        [6, 8]]])"
      ]
     },
     "execution_count": 235,
     "metadata": {},
     "output_type": "execute_result"
    }
   ],
   "source": [
    "a =np.array([[\n",
    "     [1,2],\n",
    "     [3,4]],\n",
    "    [[5,6],\n",
    "     [7,8]]])\n",
    "a.T\n",
    "a.swapaxes(1,2)  # used to swap the axes of the array"
   ]
  },
  {
   "cell_type": "code",
   "execution_count": 236,
   "id": "c8727cf9",
   "metadata": {},
   "outputs": [
    {
     "data": {
      "text/plain": [
       "array([[[1, 5],\n",
       "        [3, 7]],\n",
       "\n",
       "       [[2, 6],\n",
       "        [4, 8]]])"
      ]
     },
     "execution_count": 236,
     "metadata": {},
     "output_type": "execute_result"
    }
   ],
   "source": [
    "A = np.array([[[1, 2],\n",
    "       [3, 4]],\n",
    "\n",
    "      [[5, 6],\n",
    "       [7, 8]]])\n",
    "A.T"
   ]
  },
  {
   "cell_type": "code",
   "execution_count": 249,
   "id": "969a1acd",
   "metadata": {},
   "outputs": [
    {
     "data": {
      "text/plain": [
       "[array([0, 1, 2]), array([3, 4, 5]), array([6, 7, 8])]"
      ]
     },
     "execution_count": 249,
     "metadata": {},
     "output_type": "execute_result"
    }
   ],
   "source": [
    "# concatenate to add the one or more elements\n",
    "a = np.arange(5)\n",
    "b = np.zeros(5)\n",
    "c = np.ones(3)\n",
    "np.concatenate((a, b, c))\n",
    "\n",
    "# vstack is same as concatenate\n",
    "np.vstack((a,b))\n",
    "np.hstack((a,b))\n",
    "\n",
    "# spliting the array\n",
    "a = np.arange(9)\n",
    "np.split(a, 3)\n",
    "# hsplit()  along with haxis\n",
    "# vsplit() along with  vaxis"
   ]
  },
  {
   "cell_type": "code",
   "execution_count": null,
   "id": "72df6076",
   "metadata": {},
   "outputs": [],
   "source": []
  },
  {
   "cell_type": "code",
   "execution_count": null,
   "id": "98663771",
   "metadata": {},
   "outputs": [],
   "source": []
  },
  {
   "cell_type": "code",
   "execution_count": null,
   "id": "85397943",
   "metadata": {},
   "outputs": [],
   "source": []
  },
  {
   "cell_type": "code",
   "execution_count": null,
   "id": "698f9079",
   "metadata": {},
   "outputs": [],
   "source": []
  },
  {
   "cell_type": "code",
   "execution_count": null,
   "id": "fe7e15df",
   "metadata": {},
   "outputs": [],
   "source": []
  },
  {
   "cell_type": "code",
   "execution_count": null,
   "id": "6d20d46b",
   "metadata": {},
   "outputs": [],
   "source": []
  }
 ],
 "metadata": {
  "kernelspec": {
   "display_name": "Python 3 (ipykernel)",
   "language": "python",
   "name": "python3"
  },
  "language_info": {
   "codemirror_mode": {
    "name": "ipython",
    "version": 3
   },
   "file_extension": ".py",
   "mimetype": "text/x-python",
   "name": "python",
   "nbconvert_exporter": "python",
   "pygments_lexer": "ipython3",
   "version": "3.9.13"
  }
 },
 "nbformat": 4,
 "nbformat_minor": 5
}
